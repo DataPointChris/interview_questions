{
 "metadata": {
  "language_info": {
   "codemirror_mode": {
    "name": "ipython",
    "version": 3
   },
   "file_extension": ".py",
   "mimetype": "text/x-python",
   "name": "python",
   "nbconvert_exporter": "python",
   "pygments_lexer": "ipython3",
   "version": "3.8.2-final"
  },
  "orig_nbformat": 2,
  "kernelspec": {
   "name": "python382jvsc74a57bd0ba24931fcbe956a52379f2b78848201cbb0ebd07536fb493455cc58ee9b1ff88",
   "display_name": "Python 3.8.2 64-bit ('interview_questions': pipenv)"
  },
  "metadata": {
   "interpreter": {
    "hash": "ba24931fcbe956a52379f2b78848201cbb0ebd07536fb493455cc58ee9b1ff88"
   }
  }
 },
 "nbformat": 4,
 "nbformat_minor": 2,
 "cells": [
  {
   "cell_type": "code",
   "execution_count": 7,
   "metadata": {},
   "outputs": [],
   "source": [
    "import random"
   ]
  },
  {
   "cell_type": "code",
   "execution_count": 8,
   "metadata": {},
   "outputs": [],
   "source": [
    "questions = {\n",
    "    'Q01': 'Tell me about yourself.',\n",
    "    'Q02': 'Run through your resume for me.',\n",
    "    'Q03': 'Why did you choose data science?',\n",
    "    'Q04': 'Why did you switch to coding?',\n",
    "    'Q05': 'Tell me about a time you dealt with an ambiguous situation.',\n",
    "    'Q06': 'Where do you see yourself in five years?',\n",
    "    'Q07': 'What kind of leadership style do you prefer?',\n",
    "    'Q08': 'What is your greatest strength?',\n",
    "    'Q09': 'What is a weakness you have improved?',\n",
    "    'Q10': 'Tell me about yourself.',\n",
    "    'Q11': 'Describe a time you had to work with a difficult coworker.',\n",
    "    'Q12': 'Describe a time you had to work as part of a team.',\n",
    "    'Q13': 'Tell me about a time you had to meet a strict deadline.',\n",
    "    'Q14': 'What is your greatest weakness?',\n",
    "    'Q15': 'What is your greatest professional achievement?',\n",
    "    'Q16': 'Tell me about a challenge you faced at work.',\n",
    "    'Q17': 'How would your previous bosses describe you?',\n",
    "    'Q18': 'Tell me about a time you demonstrated leadership skills.',\n",
    "    'Q19': 'Describe a time you had a conflict with a customer.',\n",
    "    'Q20': 'Tell me about yourself',\n",
    "    'Q21': 'Tell me about a time you disagreed with your boss.',\n",
    "    'Q22': 'What type of work environment do you prefer?',\n",
    "    'Q23': 'How do you deal with pressure or stress?',\n",
    "    'Q24': 'What should I know that is not on your resume?',\n",
    "    'Q25': 'Why are you the best candidate for this position?',\n",
    "    'Q26': 'Describe your dream job.',\n",
    "    'Q27': 'Tell me about a difficult decision you have made professionally.',\n",
    "    'Q28': 'What do you like to do outside of work?',\n",
    "    'Q29': 'Tell me about a time you went above and beyond.',\n",
    "    'Q30': 'Tell me about yourself',\n",
    "    'Q31': 'What has been your greatest failure?',\n",
    "    'Q32': 'Discuss your resume.',\n",
    "    'Q33': 'Discuss your education.',\n",
    "    'Q34': 'What motivates you?',\n",
    "    'Q35': 'What can you offer us that other candidates cannot?',\n",
    "}"
   ]
  },
  {
   "cell_type": "code",
   "execution_count": 9,
   "metadata": {},
   "outputs": [
    {
     "output_type": "execute_result",
     "data": {
      "text/plain": [
       "['', 'Q06']"
      ]
     },
     "metadata": {},
     "execution_count": 9
    }
   ],
   "source": [
    "try:\n",
    "    with open('answered.txt', 'r') as ans:\n",
    "        answered = ans.read().splitlines()\n",
    "except Exception as e:\n",
    "    print(e)\n",
    "    answered = []\n",
    "answered"
   ]
  },
  {
   "cell_type": "code",
   "execution_count": 10,
   "metadata": {},
   "outputs": [
    {
     "output_type": "execute_result",
     "data": {
      "text/plain": [
       "['Q01',\n",
       " 'Q02',\n",
       " 'Q03',\n",
       " 'Q04',\n",
       " 'Q05',\n",
       " 'Q07',\n",
       " 'Q08',\n",
       " 'Q09',\n",
       " 'Q10',\n",
       " 'Q11',\n",
       " 'Q12',\n",
       " 'Q13',\n",
       " 'Q14',\n",
       " 'Q15',\n",
       " 'Q16',\n",
       " 'Q17',\n",
       " 'Q18',\n",
       " 'Q19',\n",
       " 'Q20',\n",
       " 'Q21',\n",
       " 'Q22',\n",
       " 'Q23',\n",
       " 'Q24',\n",
       " 'Q25',\n",
       " 'Q26',\n",
       " 'Q27',\n",
       " 'Q28',\n",
       " 'Q29',\n",
       " 'Q30',\n",
       " 'Q31',\n",
       " 'Q32',\n",
       " 'Q33',\n",
       " 'Q34',\n",
       " 'Q35']"
      ]
     },
     "metadata": {},
     "execution_count": 10
    }
   ],
   "source": [
    "not_answered = [q for q in questions.keys() if q not in answered]\n",
    "not_answered"
   ]
  },
  {
   "cell_type": "code",
   "execution_count": 11,
   "metadata": {},
   "outputs": [
    {
     "output_type": "stream",
     "name": "stdout",
     "text": [
      "Q19:\nDescribe a time you had a conflict with a customer.\n"
     ]
    }
   ],
   "source": [
    "try:\n",
    "    selected = random.choice(not_answered)\n",
    "    print(selected + ':')\n",
    "    print(questions[selected])\n",
    "\n",
    "    with open('answered.txt', 'a') as ans:\n",
    "        ans.write(f'\\n{selected}')\n",
    "except IndexError:\n",
    "    print('CONGRATULATIONS!!!')\n",
    "    print('Answered All Questions!!')\n",
    "    print('Are you employed yet???')"
   ]
  },
  {
   "cell_type": "code",
   "execution_count": 52,
   "metadata": {},
   "outputs": [],
   "source": [
    "import commands\n",
    "import os\n",
    "\n",
    "def clear_screen():\n",
    "    clear = 'cls' if os.name == 'nt' else 'clear'\n",
    "    os.system(clear)\n",
    "\n",
    "jobs = commands.Jobs(table_name='jobs')\n",
    "# jobs.create_table()\n",
    "\n",
    "questions = commands.Questions(table_name='questions')\n",
    "# questions.create_table()\n",
    "\n",
    "answers = commands.Answers(table_name='answers')\n",
    "# answers.create_table()\n",
    "\n",
    "tips = commands.Tips(table_name='tips')\n",
    "# tips.create_table()\n",
    "\n",
    "notes = commands.Notes(table_name='notes')\n",
    "# notes.create_table()\n",
    "\n",
    "class Option:\n",
    "    def __init__(self, name, command):\n",
    "        self.name = name\n",
    "        self.command = command\n",
    "\n",
    "    def select(self):\n",
    "        self.command()\n",
    "\n",
    "    def __str__(self):\n",
    "        return self.name\n",
    "\n",
    "\n",
    "def select_option(selected):\n",
    "    choice = input('Choose')\n",
    "    new_menu = menu[selected]\n",
    "    return print_options(new_menu)\n",
    "\n",
    "main_menu = {\n",
    "    '1': Option('Get a Random Job and Questions', jobs.view), # TODO: Create get_random function\n",
    "    'J': Option('View Jobs', print_options),\n",
    "    'Q': Option('View Questions', 'questions'),\n",
    "    'A': Option('View Answers', 'answers'),\n",
    "    'T': Option('View Tips', 'tips'),\n",
    "    'N': Option('View Notes', 'notes'),\n",
    "}\n",
    "\n",
    "submenus = {\n",
    "'jobs': {\n",
    "    'A': Option('View Jobs Listing', jobs.view_all),\n",
    "    'B': Option('View a Specific Job by ID', jobs.view),\n",
    "    'C': Option('Add a Job', jobs.add),\n",
    "    'D': Option('Edit a Job', jobs.edit),\n",
    "    'E': Option('Delete a Job', jobs.delete),\n",
    "    'F': Option('Delete All Jobs', jobs.delete_all),\n",
    "    'G': Option('Reset Jobs to Default', jobs.reset),\n",
    "    'M': Option('Return to Main Menu', print_main_menu),\n",
    "} }\n",
    "\n",
    "def print_main_menu():\n",
    "    clear_screen()\n",
    "    for key, option in main_menu.items():\n",
    "        print(f'{key} : {option.name}')\n",
    "        print()\n",
    "\n",
    "def print_submenu(submenu):\n",
    "    new_menu = submenus[submenu]\n",
    "    for key, option in new_menu.items():\n",
    "        print(f'{key} : {option.name}')\n",
    "        print()\n",
    "\n",
    "def choose_command(submenu):\n",
    "    choice = input('Choose command: ')\n",
    "    new_menu = submenus[submenu]\n",
    "    return new_menu[choice].select()"
   ]
  },
  {
   "cell_type": "code",
   "execution_count": 53,
   "metadata": {},
   "outputs": [
    {
     "output_type": "stream",
     "name": "stdout",
     "text": [
      "A : View Jobs Listing\n",
      "\n",
      "B : View a Specific Job by ID\n",
      "\n",
      "C : Add a Job\n",
      "\n",
      "D : Edit a Job\n",
      "\n",
      "E : Delete a Job\n",
      "\n",
      "F : Delete All Jobs\n",
      "\n",
      "G : Reset Jobs to Default\n",
      "\n",
      "M : Return to Main Menu\n",
      "\n",
      "1 : Get a Random Job and Questions\n",
      "\n",
      "J : View Jobs\n",
      "\n",
      "Q : View Questions\n",
      "\n",
      "A : View Answers\n",
      "\n",
      "T : View Tips\n",
      "\n",
      "N : View Notes\n",
      "\n"
     ]
    }
   ],
   "source": [
    "# print_main_menu()\n",
    "print_submenu('jobs')\n",
    "choose_command('jobs')"
   ]
  },
  {
   "cell_type": "code",
   "execution_count": null,
   "metadata": {},
   "outputs": [],
   "source": []
  }
 ]
}