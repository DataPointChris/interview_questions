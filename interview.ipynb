{
 "metadata": {
  "language_info": {
   "codemirror_mode": {
    "name": "ipython",
    "version": 3
   },
   "file_extension": ".py",
   "mimetype": "text/x-python",
   "name": "python",
   "nbconvert_exporter": "python",
   "pygments_lexer": "ipython3",
   "version": "3.8.2-final"
  },
  "orig_nbformat": 2,
  "kernelspec": {
   "name": "python3",
   "display_name": "Python 3",
   "language": "python"
  }
 },
 "nbformat": 4,
 "nbformat_minor": 2,
 "cells": [
  {
   "cell_type": "code",
   "execution_count": 224,
   "metadata": {},
   "outputs": [],
   "source": [
    "import random"
   ]
  },
  {
   "cell_type": "code",
   "execution_count": 225,
   "metadata": {},
   "outputs": [],
   "source": [
    "questions = {\n",
    "    'Q01': 'Tell me about yourself.',\n",
    "    'Q02': 'Run through your resume for me.',\n",
    "    'Q03': 'Why did you choose data science?',\n",
    "    'Q04': 'Why did you switch to coding?',\n",
    "    'Q05': 'Tell me about a time you dealt with an ambiguous situation.',\n",
    "    'Q06': 'Where do you see yourself in five years?',\n",
    "    'Q07': 'What kind of leadership style do you prefer?',\n",
    "    'Q08': 'What is your greatest strength?',\n",
    "    'Q09': 'What is a weakness you have improved?',\n",
    "    'Q10': 'Tell me about yourself.',\n",
    "    'Q11': 'Describe a time you had to work with a difficult coworker.',\n",
    "    'Q12': 'Describe a time you had to work as part of a team.',\n",
    "    'Q13': 'Tell me about a time you had to meet a strict deadline.',\n",
    "    'Q14': 'What is your greatest weakness?',\n",
    "    'Q15': 'What is your greatest professional achievement?',\n",
    "    'Q16': 'Tell me about a challenge you faced at work.',\n",
    "    'Q17': 'How would your previous bosses describe you?',\n",
    "    'Q18': 'Tell me about a time you demonstrated leadership skills.',\n",
    "    'Q19': 'Describe a time you had a conflict with a customer.',\n",
    "    'Q20': 'Tell me about yourself',\n",
    "    'Q21': 'Tell me about a time you disagreed with your boss.',\n",
    "    'Q22': 'What type of work environment do you prefer?',\n",
    "    'Q23': 'How do you deal with pressure or stress?',\n",
    "    'Q24': 'What should I know that is not on your resume?',\n",
    "    'Q25': 'Why are you the best candidate for this position?',\n",
    "    'Q26': 'Describe your dream job.',\n",
    "    'Q27': 'Tell me about a difficult decision you have made professionally.',\n",
    "    'Q28': 'What do you like to do outside of work?',\n",
    "    'Q29': 'Tell me about a time you went above and beyond.',\n",
    "    'Q30': 'Tell me about yourself',\n",
    "    'Q31': 'What has been your greatest failure?',\n",
    "    'Q32': 'Discuss your resume.',\n",
    "    'Q33': 'Discuss your education.',\n",
    "    'Q34': 'What motivates you?',\n",
    "    'Q35': 'What can you offer us that other candidates cannot?',\n",
    "}"
   ]
  },
  {
   "cell_type": "code",
   "execution_count": 226,
   "metadata": {},
   "outputs": [
    {
     "output_type": "execute_result",
     "data": {
      "text/plain": [
       "['',\n",
       " 'Q01',\n",
       " 'Q12',\n",
       " 'Q10',\n",
       " 'Q15',\n",
       " 'Q14',\n",
       " 'Q13',\n",
       " 'Q03',\n",
       " 'Q11',\n",
       " 'Q07',\n",
       " 'Q02',\n",
       " 'Q09',\n",
       " 'Q06',\n",
       " 'Q04',\n",
       " 'Q05',\n",
       " 'Q08']"
      ]
     },
     "metadata": {},
     "execution_count": 226
    }
   ],
   "source": [
    "try:\n",
    "    with open('answered.txt', 'r') as ans:\n",
    "        answered = ans.read().splitlines()\n",
    "except Exception as e:\n",
    "    print(e)\n",
    "    answered = []\n",
    "answered"
   ]
  },
  {
   "cell_type": "code",
   "execution_count": 227,
   "metadata": {},
   "outputs": [
    {
     "output_type": "execute_result",
     "data": {
      "text/plain": [
       "[]"
      ]
     },
     "metadata": {},
     "execution_count": 227
    }
   ],
   "source": [
    "not_answered = [q for q in questions.keys() if q not in answered]\n",
    "not_answered"
   ]
  },
  {
   "cell_type": "code",
   "execution_count": 228,
   "metadata": {},
   "outputs": [
    {
     "output_type": "stream",
     "name": "stdout",
     "text": [
      "CONGRATULATIONS!!!\nAnswered All Questions!!\nAre you employed yet???\n"
     ]
    }
   ],
   "source": [
    "try:\n",
    "    selected = random.choice(not_answered)\n",
    "    print(selected + ':')\n",
    "    print(questions[selected])\n",
    "\n",
    "    with open('answered.txt', 'a') as ans:\n",
    "        ans.write(f'\\n{selected}')\n",
    "except IndexError:\n",
    "    print('CONGRATULATIONS!!!')\n",
    "    print('Answered All Questions!!')\n",
    "    print('Are you employed yet???')"
   ]
  },
  {
   "cell_type": "code",
   "execution_count": null,
   "metadata": {},
   "outputs": [],
   "source": []
  }
 ]
}