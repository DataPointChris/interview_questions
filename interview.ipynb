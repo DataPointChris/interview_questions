{
 "metadata": {
  "language_info": {
   "codemirror_mode": {
    "name": "ipython",
    "version": 3
   },
   "file_extension": ".py",
   "mimetype": "text/x-python",
   "name": "python",
   "nbconvert_exporter": "python",
   "pygments_lexer": "ipython3",
   "version": "3.8.2"
  },
  "orig_nbformat": 2,
  "kernelspec": {
   "name": "python382jvsc74a57bd0ba24931fcbe956a52379f2b78848201cbb0ebd07536fb493455cc58ee9b1ff88",
   "display_name": "Python 3.8.2 64-bit ('interview_questions-GXnpN2kw': pipenv)"
  },
  "metadata": {
   "interpreter": {
    "hash": "ba24931fcbe956a52379f2b78848201cbb0ebd07536fb493455cc58ee9b1ff88"
   }
  }
 },
 "nbformat": 4,
 "nbformat_minor": 2,
 "cells": [
  {
   "cell_type": "code",
   "execution_count": null,
   "metadata": {},
   "outputs": [],
   "source": [
    "import random"
   ]
  },
  {
   "cell_type": "code",
   "execution_count": null,
   "metadata": {},
   "outputs": [],
   "source": [
    "questions = {\n",
    "    'Q01': 'Tell me about yourself.',\n",
    "    'Q02': 'Run through your resume for me.',\n",
    "    'Q03': 'Why did you choose data science?',\n",
    "    'Q04': 'Why did you switch to coding?',\n",
    "    'Q05': 'Tell me about a time you dealt with an ambiguous situation.',\n",
    "    'Q06': 'Where do you see yourself in five years?',\n",
    "    'Q07': 'What kind of leadership style do you prefer?',\n",
    "    'Q08': 'What is your greatest strength?',\n",
    "    'Q09': 'What is a weakness you have improved?',\n",
    "    'Q10': 'Tell me about yourself.',\n",
    "    'Q11': 'Describe a time you had to work with a difficult coworker.',\n",
    "    'Q12': 'Describe a time you had to work as part of a team.',\n",
    "    'Q13': 'Tell me about a time you had to meet a strict deadline.',\n",
    "    'Q14': 'What is your greatest weakness?',\n",
    "    'Q15': 'What is your greatest professional achievement?',\n",
    "    'Q16': 'Tell me about a challenge you faced at work.',\n",
    "    'Q17': 'How would your previous bosses describe you?',\n",
    "    'Q18': 'Tell me about a time you demonstrated leadership skills.',\n",
    "    'Q19': 'Describe a time you had a conflict with a customer.',\n",
    "    'Q20': 'Tell me about yourself',\n",
    "    'Q21': 'Tell me about a time you disagreed with your boss.',\n",
    "    'Q22': 'What type of work environment do you prefer?',\n",
    "    'Q23': 'How do you deal with pressure or stress?',\n",
    "    'Q24': 'What should I know that is not on your resume?',\n",
    "    'Q25': 'Why are you the best candidate for this position?',\n",
    "    'Q26': 'Describe your dream job.',\n",
    "    'Q27': 'Tell me about a difficult decision you have made professionally.',\n",
    "    'Q28': 'What do you like to do outside of work?',\n",
    "    'Q29': 'Tell me about a time you went above and beyond.',\n",
    "    'Q30': 'Tell me about yourself',\n",
    "    'Q31': 'What has been your greatest failure?',\n",
    "    'Q32': 'Discuss your resume.',\n",
    "    'Q33': 'Discuss your education.',\n",
    "    'Q34': 'What motivates you?',\n",
    "    'Q35': 'What can you offer us that other candidates cannot?',\n",
    "    'Q36': 'Why should we hire you?',\n",
    "    'Q37': 'Tell me about a time you had to persuade someone.',\n",
    "    'Q38': 'Tell me about a time you were successful on a team.',\n",
    "    \n",
    "}"
   ]
  },
  {
   "cell_type": "code",
   "execution_count": null,
   "metadata": {},
   "outputs": [],
   "source": [
    "print(', '.join(questions.keys()))\n",
    "print()\n",
    "print(tuple(questions.values()))"
   ]
  },
  {
   "cell_type": "code",
   "execution_count": null,
   "metadata": {},
   "outputs": [],
   "source": [
    "try:\n",
    "    with open('answered.txt', 'r') as ans:\n",
    "        answered = ans.read().splitlines()\n",
    "except Exception as e:\n",
    "    print(e)\n",
    "    answered = []\n",
    "answered"
   ]
  },
  {
   "cell_type": "code",
   "execution_count": null,
   "metadata": {},
   "outputs": [],
   "source": [
    "not_answered = [q for q in questions.keys() if q not in answered]\n",
    "not_answered"
   ]
  },
  {
   "cell_type": "code",
   "execution_count": null,
   "metadata": {},
   "outputs": [],
   "source": [
    "try:\n",
    "    selected = random.choice(not_answered)\n",
    "    print(selected + ':')\n",
    "    print(questions[selected])\n",
    "\n",
    "    with open('answered.txt', 'a') as ans:\n",
    "        ans.write(f'\\n{selected}')\n",
    "except IndexError:\n",
    "    print('CONGRATULATIONS!!!')\n",
    "    print('Answered All Questions!!')\n",
    "    print('Are you employed yet???')"
   ]
  },
  {
   "cell_type": "code",
   "execution_count": null,
   "metadata": {},
   "outputs": [],
   "source": [
    "def alphabeticShift(inputString):\n",
    "    new_string = []\n",
    "    for letter in inputString:\n",
    "        if letter == 'z':\n",
    "            new_string.append('a')\n",
    "        else: \n",
    "            new_string.append(chr(ord(letter)+1))\n",
    "    output = ''.join(new_string)\n",
    "    print(output)\n",
    "\n",
    "alphabeticShift('crazy')"
   ]
  },
  {
   "cell_type": "code",
   "execution_count": 19,
   "metadata": {},
   "outputs": [
    {
     "output_type": "stream",
     "name": "stdout",
     "text": [
      "⎺⎺⎺⎺⎺⎺⎺⎺⎺⎺⎺⎺⎺⎺⎺⎺⎺⎺⎺⎺⎺⎺⎺⎺⎺⎺⎺⎺⎺⎺⎺⎺⎺⎺⎺⎺⎺⎺⎺⎺⎺⎺⎺⎺⎺⎺⎺⎺⎺⎺⎺⎺⎺⎺⎺⎺⎺⎺⎺⎺⎺⎺⎺⎺⎺⎺⎺⎺⎺⎺⎺⎺⎺⎺⎺⎺⎺⎺⎺\n⎼⎼⎼⎼⎼⎼⎼⎼⎼⎼⎼⎼⎼⎼⎼⎼⎼⎼⎼⎼⎼⎼⎼⎼⎼⎼⎼⎼⎼     SHORT TITLE     ⎼⎼⎼⎼⎼⎼⎼⎼⎼⎼⎼⎼⎼⎼⎼⎼⎼⎼⎼⎼⎼⎼⎼⎼⎼⎼⎼⎼⎼\n⎽⎽⎽⎽⎽⎽⎽⎽⎽⎽⎽⎽⎽⎽⎽⎽⎽⎽⎽⎽⎽⎽⎽⎽⎽⎽⎽⎽⎽⎽⎽⎽⎽⎽⎽⎽⎽⎽⎽⎽⎽⎽⎽⎽⎽⎽⎽⎽⎽⎽⎽⎽⎽⎽⎽⎽⎽⎽⎽⎽⎽⎽⎽⎽⎽⎽⎽⎽⎽⎽⎽⎽⎽⎽⎽⎽⎽⎽⎽\n\n\n\n⎺⎺⎺⎺⎺⎺⎺⎺⎺⎺⎺⎺⎺⎺⎺⎺⎺⎺⎺⎺⎺⎺⎺⎺⎺⎺⎺⎺⎺⎺⎺⎺⎺⎺⎺⎺⎺⎺⎺⎺⎺⎺⎺⎺⎺⎺⎺⎺⎺⎺⎺⎺⎺⎺⎺⎺⎺⎺⎺⎺⎺⎺⎺⎺⎺⎺⎺⎺⎺⎺⎺⎺⎺⎺⎺⎺⎺⎺⎺\n⎼⎼⎼⎼⎼⎼⎼⎼⎼⎼⎼⎼⎼⎼⎼⎼⎼     VERY LONG TITLE THAT TAKES UP SPACE     ⎼⎼⎼⎼⎼⎼⎼⎼⎼⎼⎼⎼⎼⎼⎼⎼⎼\n⎽⎽⎽⎽⎽⎽⎽⎽⎽⎽⎽⎽⎽⎽⎽⎽⎽⎽⎽⎽⎽⎽⎽⎽⎽⎽⎽⎽⎽⎽⎽⎽⎽⎽⎽⎽⎽⎽⎽⎽⎽⎽⎽⎽⎽⎽⎽⎽⎽⎽⎽⎽⎽⎽⎽⎽⎽⎽⎽⎽⎽⎽⎽⎽⎽⎽⎽⎽⎽⎽⎽⎽⎽⎽⎽⎽⎽⎽⎽\n\n"
     ]
    }
   ],
   "source": [
    "def print_title_bar(name):\n",
    "    max_width = 80\n",
    "    space = max_width - len(name) - 10\n",
    "    left_pad = ('⎼' * (space // 2)) + (' ' * 5)\n",
    "    right_pad = (' ' * 5) + ('⎼' * (space // 2))\n",
    "    title = f'{left_pad}{name.upper()}{right_pad}'\n",
    "    top_border = '⎺' * len(title)\n",
    "    bottom_border = '⎽' * len(title)\n",
    "    print('\\n'.join([top_border, title, bottom_border, '']))\n",
    "\n",
    "print_title_bar('Short Title')\n",
    "print()\n",
    "print()\n",
    "print_title_bar('Very Long Title that Takes Up Space')"
   ]
  },
  {
   "cell_type": "code",
   "execution_count": 24,
   "metadata": {},
   "outputs": [
    {
     "output_type": "stream",
     "name": "stdout",
     "text": [
      "⑊ ⑊ ⑊ ⑊ ⑊ ⑊ ⑊ ⑊ ⑊ ⑊ ⑊ ⑊ ⑊ ⑊ ⑊ ⑊ ⑊ ⑊ ⑊ ⑊ ⑊ ⑊ ⑊ ⑊ ⑊ ⑊ ⑊ ⑊ ⑊ ⑊ ⑊ ⑊ ⑊ ⑊ \n ⑊ ⑊ ⑊ ⑊ ⑊ ⑊ ⑊ ⑊ ⑊ ⑊ ⑊ ⑊ ⑊       MENU      ⑊ ⑊ ⑊ ⑊ ⑊ ⑊ ⑊ ⑊ ⑊ ⑊ ⑊ ⑊ ⑊ \n  ⑊ ⑊ ⑊ ⑊ ⑊ ⑊ ⑊ ⑊ ⑊ ⑊ ⑊ ⑊ ⑊ ⑊ ⑊ ⑊ ⑊ ⑊ ⑊ ⑊ ⑊ ⑊ ⑊ ⑊ ⑊ ⑊ ⑊ ⑊ ⑊ ⑊ ⑊ ⑊ ⑊ ⑊ \n\n\n\n⑊ ⑊ ⑊ ⑊ ⑊ ⑊ ⑊ ⑊ ⑊ ⑊ ⑊ ⑊ ⑊ ⑊ ⑊ ⑊ ⑊ ⑊ ⑊ ⑊ ⑊ ⑊ ⑊ ⑊ ⑊ ⑊ ⑊ ⑊ ⑊ ⑊ ⑊ ⑊ ⑊ ⑊ ⑊ ⑊ \n ⑊ ⑊ ⑊ ⑊ ⑊ ⑊ ⑊ ⑊ ⑊ ⑊ ⑊      MY MAIN MENU MENU      ⑊ ⑊ ⑊ ⑊ ⑊ ⑊ ⑊ ⑊ ⑊ ⑊ ⑊ \n  ⑊ ⑊ ⑊ ⑊ ⑊ ⑊ ⑊ ⑊ ⑊ ⑊ ⑊ ⑊ ⑊ ⑊ ⑊ ⑊ ⑊ ⑊ ⑊ ⑊ ⑊ ⑊ ⑊ ⑊ ⑊ ⑊ ⑊ ⑊ ⑊ ⑊ ⑊ ⑊ ⑊ ⑊ ⑊ ⑊ \n\n\n\n⑊ ⑊ ⑊ ⑊ ⑊ ⑊ ⑊ ⑊ ⑊ ⑊ ⑊ ⑊ ⑊ ⑊ ⑊ ⑊ ⑊ ⑊ ⑊ ⑊ ⑊ ⑊ ⑊ ⑊ ⑊ ⑊ ⑊ ⑊ ⑊ ⑊ ⑊ ⑊ ⑊ ⑊ ⑊ ⑊ ⑊ ⑊ ⑊ ⑊ \n ⑊ ⑊ ⑊ ⑊ ⑊ ⑊ ⑊      BIG LONG MENU NAME THAT IS VERY LONG MENU      ⑊ ⑊ ⑊ ⑊ ⑊ ⑊ ⑊ \n  ⑊ ⑊ ⑊ ⑊ ⑊ ⑊ ⑊ ⑊ ⑊ ⑊ ⑊ ⑊ ⑊ ⑊ ⑊ ⑊ ⑊ ⑊ ⑊ ⑊ ⑊ ⑊ ⑊ ⑊ ⑊ ⑊ ⑊ ⑊ ⑊ ⑊ ⑊ ⑊ ⑊ ⑊ ⑊ ⑊ ⑊ ⑊ ⑊ ⑊ \n\n"
     ]
    }
   ],
   "source": [
    "def print_menu(name):\n",
    "    border = '⑊ '\n",
    "    width = (80 - len(name))//6\n",
    "    padding = 5\n",
    "    menu_string = f'{border*width}{\" \"*padding}{name.upper()} MENU{\" \"*padding}{border*width}'\n",
    "    q, r = divmod(len(menu_string), len(border))\n",
    "    adjusted_menu_string = f'{border*width}{\" \"*padding}{name.upper()} MENU{\" \"*padding}{\" \"*r}{border*width}'\n",
    "    print(border * (q + r))\n",
    "    print(' ' + adjusted_menu_string)\n",
    "    print('  ' + border * (q + r))\n",
    "    print()\n",
    "\n",
    "print_menu('')\n",
    "print()\n",
    "print()\n",
    "print_menu('my main menu')\n",
    "print()\n",
    "print()\n",
    "print_menu('big long menu name that is very long')"
   ]
  },
  {
   "cell_type": "code",
   "execution_count": null,
   "metadata": {},
   "outputs": [],
   "source": [
    "q, r = divmod(10,3)\n",
    "print(q,r)"
   ]
  },
  {
   "cell_type": "code",
   "execution_count": 21,
   "metadata": {},
   "outputs": [
    {
     "output_type": "stream",
     "name": "stdout",
     "text": [
      "user_answer: True\n",
      "user_answer: True\n",
      "user_answer: True\n",
      "user_answer: False\n",
      "answered: False\n"
     ]
    }
   ],
   "source": [
    "# WALRUS\n",
    "\n",
    "while user_answer := input('Answered? ').upper() not in ['Y', 'N']:\n",
    "    print(f'user_answer: {user_answer}')\n",
    "if user_answer == 'Y':\n",
    "    answered = 1\n",
    "if user_answer == 'N':\n",
    "    answered = 0\n",
    "print(f'user_answer: {user_answer}')\n",
    "print(f'answered: {answered}')"
   ]
  },
  {
   "cell_type": "code",
   "execution_count": 27,
   "metadata": {},
   "outputs": [
    {
     "output_type": "stream",
     "name": "stdout",
     "text": [
      "\n",
      "Invalid Answer: True\n",
      "\n",
      "Invalid Answer: True\n",
      "\n",
      "Invalid Answer: True\n",
      "\n",
      "Invalid Answer: True\n",
      "False\n"
     ]
    }
   ],
   "source": [
    "while user_answer := input('Answered? ').upper() not in ['Y', 'N']:\n",
    "    print()\n",
    "    print(f'Invalid Answer: {user_answer}')\n",
    "print(user_answer)"
   ]
  },
  {
   "cell_type": "code",
   "execution_count": 47,
   "metadata": {},
   "outputs": [],
   "source": [
    "def validate_input(input_message, option_map):\n",
    "    \"\"\"option_map should be a dictionary of mappings\"\"\"\n",
    "    choice = input(f'{input_message} ').upper()\n",
    "    while choice not in option_map.keys():\n",
    "        choice = input(f'{input_message} ')\n",
    "    return option_map.get(choice)"
   ]
  },
  {
   "cell_type": "code",
   "execution_count": 48,
   "metadata": {},
   "outputs": [
    {
     "output_type": "execute_result",
     "data": {
      "text/plain": [
       "'2 yeah'"
      ]
     },
     "metadata": {},
     "execution_count": 48
    }
   ],
   "source": [
    "validate_input('number', {'1': '1 hooray','2': '2 yeah','3': '3 wow'})"
   ]
  },
  {
   "cell_type": "code",
   "execution_count": 7,
   "metadata": {},
   "outputs": [
    {
     "output_type": "stream",
     "name": "stdout",
     "text": [
      "[[(1, 'yes', 0), (2, 'no', 1)]]\n"
     ]
    }
   ],
   "source": [
    "record = [(1, 'yes', 0)]\n",
    "records = [(1, 'yes', 0),(2, 'no', 1)]\n",
    "# for item in record:\n",
    "#     print(item)\n",
    "records = [[records]]\n",
    "for item in records:\n",
    "    print(item)"
   ]
  },
  {
   "cell_type": "code",
   "execution_count": 13,
   "metadata": {},
   "outputs": [
    {
     "output_type": "execute_result",
     "data": {
      "text/plain": [
       "'Alongnam'"
      ]
     },
     "metadata": {},
     "execution_count": 13
    }
   ],
   "source": [
    "name = 'alongname'\n",
    "name[:-1:].capitalize()"
   ]
  },
  {
   "cell_type": "code",
   "execution_count": 8,
   "metadata": {},
   "outputs": [
    {
     "output_type": "stream",
     "name": "stdout",
     "text": [
      "!!!!!!!!!!!!!!!!!!!!!!!!!!!!!!!     WARNING     !!!!!!!!!!!!!!!!!!!!!!!!!!!!!!!!\n"
     ]
    }
   ],
   "source": [
    "print('     WARNING     '.center(80, '!'))"
   ]
  },
  {
   "cell_type": "code",
   "execution_count": 25,
   "metadata": {},
   "outputs": [],
   "source": [
    "answers = [(1, 2, 'answer1'), (2, 2, 'answer2'), (3, 2, 'answer3'), (4, 2, 'answer4')]\n",
    "blank_answers = []\n",
    "none_blank = None\n",
    "blank = ()"
   ]
  },
  {
   "cell_type": "code",
   "execution_count": 28,
   "metadata": {},
   "outputs": [
    {
     "output_type": "stream",
     "name": "stdout",
     "text": [
      "(1, 2, 'answer1')\n(2, 2, 'answer2')\n(3, 2, 'answer3')\n(4, 2, 'answer4')\n"
     ]
    },
    {
     "output_type": "execute_result",
     "data": {
      "text/plain": [
       "[None, None, None, None]"
      ]
     },
     "metadata": {},
     "execution_count": 28
    }
   ],
   "source": [
    "[print(answer) for answer in answers]"
   ]
  },
  {
   "cell_type": "code",
   "execution_count": 29,
   "metadata": {},
   "outputs": [
    {
     "output_type": "execute_result",
     "data": {
      "text/plain": [
       "[]"
      ]
     },
     "metadata": {},
     "execution_count": 29
    }
   ],
   "source": [
    "[print(answer) for answer in blank_answers]"
   ]
  },
  {
   "cell_type": "code",
   "execution_count": 31,
   "metadata": {},
   "outputs": [],
   "source": [
    "def print_answer(string):\n",
    "    print(string)"
   ]
  },
  {
   "cell_type": "code",
   "execution_count": 32,
   "metadata": {},
   "outputs": [
    {
     "output_type": "execute_result",
     "data": {
      "text/plain": [
       "<map at 0x10ed93fa0>"
      ]
     },
     "metadata": {},
     "execution_count": 32
    }
   ],
   "source": [
    "map(print_answer, answers)"
   ]
  },
  {
   "cell_type": "code",
   "execution_count": null,
   "metadata": {},
   "outputs": [],
   "source": []
  }
 ]
}